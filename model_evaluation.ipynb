{
 "cells": [
  {
   "cell_type": "code",
   "execution_count": 37,
   "metadata": {},
   "outputs": [],
   "source": [
    "import pandas as pd\n",
    "from sklearn.metrics import confusion_matrix"
   ]
  },
  {
   "cell_type": "code",
   "execution_count": 38,
   "metadata": {},
   "outputs": [
    {
     "name": "stdout",
     "output_type": "stream",
     "text": [
      "Accuracy: 80.0 %\n",
      "Precision: 86.79 %\n",
      "Recall: 77.97 %\n"
     ]
    }
   ],
   "source": [
    "# Given the following confusion matrix, evaluate (by hand) the model's performance.\n",
    "#|               | pred dog   | pred cat   |\n",
    "#|:------------  |-----------:|-----------:|\n",
    "#| actual dog    |         46 |         7  |\n",
    "#| actual cat    |         13 |         34 |\n",
    "\n",
    "# In the context of this problem, what is a false positive?\n",
    "# A false positive is a prediction that is incorrect.\n",
    "# In this case, a false positive is a prediction of a dog when the actual label is a cat.\n",
    "\n",
    "# In the context of this problem, what is a false negative?\n",
    "# A false negative is a prediction that is incorrect.\n",
    "# In this case, a false negative is a prediction of a cat when the actual label is a dog.\n",
    "\n",
    "# How would you describe this model?\n",
    "# Would be best utilized as recall.\n",
    "\n",
    "TP = 46\n",
    "FP = 7\n",
    "FN = 13\n",
    "TN = 34\n",
    "\n",
    "accuracy = (TP + TN) / (TP + FP + FN + TN)\n",
    "precision = TP / (TP + FP)\n",
    "recall = TP / (TP + FN)\n",
    "\n",
    "# print the results\n",
    "print(\"Accuracy:\", round(accuracy*100, 2),\"%\")\n",
    "print(\"Precision:\", round(precision*100, 2),\"%\")\n",
    "print(\"Recall:\", round(recall*100, 2),\"%\")\n"
   ]
  },
  {
   "cell_type": "markdown",
   "metadata": {},
   "source": [
    "You are working as a datascientist working for Codeup Cody Creator (C3 for short), a rubber-duck manufacturing plant.\n",
    "\n",
    "Unfortunately, some of the rubber ducks that are produced will have defects. Your team has built several models that try to predict those defects, and the data from their predictions can be found here.\n",
    "\n",
    "Use the predictions dataset and pandas to help answer the following questions:\n",
    "\n",
    "An internal team wants to investigate the cause of the manufacturing defects. \n",
    "\n",
    "They tell you that they want to identify as many of the ducks that have a defect as possible. \n",
    "\n",
    "Which evaluation metric would be appropriate here? \n",
    "\n",
    "Which model would be the best fit for this use case?\n",
    "\n",
    "\n",
    "Recently several stories in the local news have come out highlighting customers who received a rubber duck with a defect, and portraying C3 in a bad light. \n",
    "\n",
    "The PR team has decided to launch a program that gives customers with a defective duck a vacation to Hawaii. \n",
    "\n",
    "They need you to predict which ducks will have defects, but tell you the really don't want to accidentally give out a vacation package when the duck really doesn't have a defect. \n",
    "\n",
    "Which evaluation metric would be appropriate here? Which model would be the best fit for this use case?"
   ]
  },
  {
   "cell_type": "code",
   "execution_count": 39,
   "metadata": {},
   "outputs": [
    {
     "name": "stdout",
     "output_type": "stream",
     "text": [
      "      actual     model1  model2     model3\n",
      "0  No Defect  No Defect  Defect  No Defect\n",
      "1  No Defect  No Defect  Defect     Defect\n",
      "2  No Defect  No Defect  Defect  No Defect\n",
      "3  No Defect     Defect  Defect     Defect\n",
      "4  No Defect  No Defect  Defect  No Defect\n",
      "------------------------------------------\n",
      "<class 'pandas.core.frame.DataFrame'>\n",
      "RangeIndex: 200 entries, 0 to 199\n",
      "Data columns (total 4 columns):\n",
      " #   Column  Non-Null Count  Dtype \n",
      "---  ------  --------------  ----- \n",
      " 0   actual  200 non-null    object\n",
      " 1   model1  200 non-null    object\n",
      " 2   model2  200 non-null    object\n",
      " 3   model3  200 non-null    object\n",
      "dtypes: object(4)\n",
      "memory usage: 6.4+ KB\n",
      "------------------------------------------\n"
     ]
    },
    {
     "data": {
      "text/plain": [
       "No Defect    184\n",
       "Defect        16\n",
       "Name: actual, dtype: int64"
      ]
     },
     "execution_count": 39,
     "metadata": {},
     "output_type": "execute_result"
    }
   ],
   "source": [
    "# aquire and observe the data\n",
    "df = pd.read_csv('c3.csv')\n",
    "print(df.head())\n",
    "print('------------------------------------------')\n",
    "df.info()\n",
    "print('------------------------------------------')\n",
    "df.actual.value_counts()"
   ]
  },
  {
   "cell_type": "markdown",
   "metadata": {},
   "source": [
    "CASES:\n",
    "- Positive: 'Defect'\n",
    "- Negative: 'No Defect'\n",
    "\n",
    "OUTCOMES:\n",
    "- TP: Defective ducks are identified as defective.\n",
    "- TN: Non-Defective duck identified as no defect.\n",
    "- FP: Defective duck identified as no defect.\n",
    "- FN: Non-Defective duck identified as defective.\n"
   ]
  },
  {
   "cell_type": "code",
   "execution_count": 40,
   "metadata": {},
   "outputs": [
    {
     "name": "stdout",
     "output_type": "stream",
     "text": [
      "actual     Defect  No Defect\n",
      "model1                      \n",
      "Defect          8          2\n",
      "No Defect       8        182\n",
      "------------------------------------------\n",
      "actual     Defect  No Defect\n",
      "model2                      \n",
      "Defect          9         81\n",
      "No Defect       7        103\n",
      "------------------------------------------\n",
      "actual     Defect  No Defect\n",
      "model3                      \n",
      "Defect         13         86\n",
      "No Defect       3         98\n"
     ]
    }
   ],
   "source": [
    "# An internal team wants to investigate the cause of the manufacturing defects. \n",
    "# They tell you that they want to identify as many of the ducks that have a defect as possible.\n",
    "# Create a crosstab of the actual and modeled results.\n",
    "model1_cm = pd.crosstab(df.model1, df.actual)\n",
    "model2_cm = pd.crosstab(df.model2, df.actual)\n",
    "model3_cm = pd.crosstab(df.model3, df.actual)\n",
    "print(model1_cm)\n",
    "print('------------------------------------------')\n",
    "print(model2_cm)\n",
    "print('------------------------------------------')\n",
    "print(model3_cm)\n"
   ]
  },
  {
   "cell_type": "markdown",
   "metadata": {},
   "source": [
    "Since the internal team wants to investigate the cause of the manufacturing defects which would be the true positives and the false negatives(all defects) the most appropiate metric would be 'Recall'."
   ]
  },
  {
   "cell_type": "code",
   "execution_count": 41,
   "metadata": {},
   "outputs": [
    {
     "name": "stdout",
     "output_type": "stream",
     "text": [
      "Model 1 Accuracy: 95.0 %\n",
      "Model 1 Precision: 80.0 %\n",
      "Model 1 Recall: 50.0 %\n",
      "--------------------------------\n",
      "Model 2 Accuracy: 56.0 %\n",
      "Model 2 Precision: 10.0 %\n",
      "Model 2 Recall: 56.25 %\n",
      "--------------------------------\n",
      "Model 3 Accuracy: 55.5 %\n",
      "Model 3 Precision: 13.13 %\n",
      "Model 3 Recall: 81.25 %\n"
     ]
    }
   ],
   "source": [
    "# Utilize the confusion matrixies and the metric formulas to determine the accuracy, precision, and recall of each model.\n",
    "# accuracy = (TP + TN) / (TP + FP + FN + TN)\n",
    "# precision = TP / (TP + FP)\n",
    "# recall = TP / (TP + FN)\n",
    "\n",
    "#  determine the accuracy, precision, and recall of model1.\n",
    "model1_accuracy = (model1_cm.iloc[0,0] + model1_cm.iloc[1,1]) / (model1_cm.iloc[0,0] + model1_cm.iloc[1,1] + model1_cm.iloc[0,1] + model1_cm.iloc[1,0])\n",
    "model1_precision = model1_cm.iloc[0,0] / (model1_cm.iloc[0,0] + model1_cm.iloc[0,1])\n",
    "model1_recall = model1_cm.iloc[0,0] / (model1_cm.iloc[0,0] + model1_cm.iloc[1,0]) \n",
    "print(\"Model 1 Accuracy:\", round(model1_accuracy*100, 2),\"%\")\n",
    "print(\"Model 1 Precision:\", round(model1_precision*100, 2),\"%\")\n",
    "print(\"Model 1 Recall:\", round(model1_recall*100, 2),\"%\")\n",
    "print('--------------------------------')\n",
    "# determine the accuracy, precision, and recall of model2.\n",
    "model2_accuracy = (model2_cm.iloc[0,0] + model2_cm.iloc[1,1]) / (model2_cm.iloc[0,0] + model2_cm.iloc[1,1] + model2_cm.iloc[0,1] + model2_cm.iloc[1,0])\n",
    "model2_precision = model2_cm.iloc[0,0] / (model2_cm.iloc[0,0] + model2_cm.iloc[0,1])\n",
    "model2_recall = model2_cm.iloc[0,0] / (model2_cm.iloc[0,0] + model2_cm.iloc[1,0])\n",
    "print(\"Model 2 Accuracy:\", round(model2_accuracy*100, 2),\"%\")\n",
    "print(\"Model 2 Precision:\", round(model2_precision*100, 2),\"%\")\n",
    "print(\"Model 2 Recall:\", round(model2_recall*100, 2),\"%\")\n",
    "print('--------------------------------')\n",
    "# determine the accuracy, precision, and recall of model3.\n",
    "model3_accuracy = (model3_cm.iloc[0,0] + model3_cm.iloc[1,1]) / (model3_cm.iloc[0,0] + model3_cm.iloc[1,1] + model3_cm.iloc[0,1] + model3_cm.iloc[1,0])\n",
    "model3_precision = model3_cm.iloc[0,0] / (model3_cm.iloc[0,0] + model3_cm.iloc[0,1])\n",
    "model3_recall = model3_cm.iloc[0,0] / (model3_cm.iloc[0,0] + model3_cm.iloc[1,0])\n",
    "print(\"Model 3 Accuracy:\", round(model3_accuracy*100, 2),\"%\")\n",
    "print(\"Model 3 Precision:\", round(model3_precision*100, 2),\"%\")\n",
    "print(\"Model 3 Recall:\", round(model3_recall*100, 2),\"%\")\n"
   ]
  },
  {
   "cell_type": "markdown",
   "metadata": {},
   "source": [
    "Looking at the results since we are focusing on 'recall'. I would say _model 3_ would be best."
   ]
  },
  {
   "cell_type": "markdown",
   "metadata": {},
   "source": [
    "Recently several stories in the local news have come out highlighting customers who received a rubber duck with a defect, and portraying C3 in a bad light. The PR team has decided to launch a program that gives customers with a defective duck a vacation to Hawaii. They need you to predict which ducks will have defects, but tell you the really don't want to accidentally give out a vacation package when the duck really doesn't have a defect. \n",
    "\n",
    "Which evaluation metric would be appropriate here?\n",
    "- for avoiding false positives the precision metric would be best.\n",
    "\n",
    "Which model would be the best fit for this use case?\n",
    "- according to the result above model 1 would be best to prevent vacation give aways."
   ]
  },
  {
   "cell_type": "markdown",
   "metadata": {},
   "source": [
    "4 . You are working as a data scientist for Gives You Paws ™, a subscription based service that shows you cute pictures of dogs or cats (or both for an additional fee).\n",
    "At Gives You Paws, anyone can upload pictures of their cats or dogs. The photos are then put through a two step process. First an automated algorithm tags pictures as either a cat or a dog (Phase I). Next, the photos that have been initially identified are put through another round of review, possibly with some human oversight, before being presented to the users (Phase II).\n",
    "\n",
    "Given this dataset, use pandas to create a baseline model (i.e. a model that just predicts the most common class) and answer the following questions:\n",
    "\n",
    "- In terms of accuracy, how do the various models compare to the baseline model? Are any of the models better than the baseline?\n",
    "\n",
    "- Suppose you are working on a team that solely deals with dog pictures. Which of these models would you recomend for Phase I? For Phase II?\n",
    "\n",
    "- Suppose you are working on a team that solely deals with cat pictures. Which of these models would you recomend for Phase I? For Phase II?"
   ]
  },
  {
   "cell_type": "code",
   "execution_count": 42,
   "metadata": {},
   "outputs": [
    {
     "name": "stdout",
     "output_type": "stream",
     "text": [
      "  actual model1 model2 model3 model4\n",
      "0    cat    cat    dog    cat    dog\n",
      "1    dog    dog    cat    cat    dog\n",
      "2    dog    cat    cat    cat    dog\n",
      "3    dog    dog    dog    cat    dog\n",
      "4    cat    cat    cat    dog    dog\n",
      "------------------------------------------\n",
      "<class 'pandas.core.frame.DataFrame'>\n",
      "RangeIndex: 5000 entries, 0 to 4999\n",
      "Data columns (total 5 columns):\n",
      " #   Column  Non-Null Count  Dtype \n",
      "---  ------  --------------  ----- \n",
      " 0   actual  5000 non-null   object\n",
      " 1   model1  5000 non-null   object\n",
      " 2   model2  5000 non-null   object\n",
      " 3   model3  5000 non-null   object\n",
      " 4   model4  5000 non-null   object\n",
      "dtypes: object(5)\n",
      "memory usage: 195.4+ KB\n",
      "------------------------------------------\n"
     ]
    },
    {
     "data": {
      "text/plain": [
       "dog    3254\n",
       "cat    1746\n",
       "Name: actual, dtype: int64"
      ]
     },
     "execution_count": 42,
     "metadata": {},
     "output_type": "execute_result"
    }
   ],
   "source": [
    "# acquire and observe the data\n",
    "df = pd.read_csv('gives_you_paws.csv')\n",
    "print(df.head())\n",
    "print('------------------------------------------')\n",
    "df.info()\n",
    "print('------------------------------------------')\n",
    "df.actual.value_counts()\n"
   ]
  },
  {
   "cell_type": "markdown",
   "metadata": {},
   "source": [
    "In terms of accuracy, how do the various models compare to the baseline model?\n",
    "Are any of the models better than the baseline?\n",
    "- Models 1 and 4 have a higher accuracy then the baseline with model 1 having the higher accuracy."
   ]
  },
  {
   "cell_type": "code",
   "execution_count": 43,
   "metadata": {},
   "outputs": [],
   "source": [
    "# from the information above 'dogs' are the most common therefore the models baseline will be all dogs.\n",
    "# Create dataframes for each model\n",
    "m1_df =  df[['actual', 'model1']].copy()\n",
    "m2_df =  df[['actual', 'model2']].copy()\n",
    "m3_df =  df[['actual', 'model3']].copy()\n",
    "m4_df =  df[['actual', 'model4']].copy()\n",
    "# Add a baseline column to each dataframe\n",
    "m1_df['baseline'] = 'dog'\n",
    "m2_df['baseline'] = 'dog'\n",
    "m3_df['baseline'] = 'dog'\n",
    "m4_df['baseline'] = 'dog'"
   ]
  },
  {
   "cell_type": "code",
   "execution_count": 44,
   "metadata": {},
   "outputs": [
    {
     "data": {
      "text/html": [
       "<div>\n",
       "<style scoped>\n",
       "    .dataframe tbody tr th:only-of-type {\n",
       "        vertical-align: middle;\n",
       "    }\n",
       "\n",
       "    .dataframe tbody tr th {\n",
       "        vertical-align: top;\n",
       "    }\n",
       "\n",
       "    .dataframe thead th {\n",
       "        text-align: right;\n",
       "    }\n",
       "</style>\n",
       "<table border=\"1\" class=\"dataframe\">\n",
       "  <thead>\n",
       "    <tr style=\"text-align: right;\">\n",
       "      <th>actual</th>\n",
       "      <th>cat</th>\n",
       "      <th>dog</th>\n",
       "    </tr>\n",
       "    <tr>\n",
       "      <th>model1</th>\n",
       "      <th></th>\n",
       "      <th></th>\n",
       "    </tr>\n",
       "  </thead>\n",
       "  <tbody>\n",
       "    <tr>\n",
       "      <th>cat</th>\n",
       "      <td>1423</td>\n",
       "      <td>640</td>\n",
       "    </tr>\n",
       "    <tr>\n",
       "      <th>dog</th>\n",
       "      <td>323</td>\n",
       "      <td>2614</td>\n",
       "    </tr>\n",
       "  </tbody>\n",
       "</table>\n",
       "</div>"
      ],
      "text/plain": [
       "actual   cat   dog\n",
       "model1            \n",
       "cat     1423   640\n",
       "dog      323  2614"
      ]
     },
     "execution_count": 44,
     "metadata": {},
     "output_type": "execute_result"
    }
   ],
   "source": [
    "# Create a crosstab for visualization\n",
    "m1_cm = pd.crosstab(m1_df.model1, m1_df.actual)\n",
    "m1_cm"
   ]
  },
  {
   "cell_type": "code",
   "execution_count": 45,
   "metadata": {},
   "outputs": [
    {
     "name": "stdout",
     "output_type": "stream",
     "text": [
      "Model 1 Accuracy: 80.74 %\n",
      "Model 2 Accuracy: 63.04 %\n",
      "Model 3 Accuracy: 50.96 %\n",
      "Model 4 Accuracy: 74.26 %\n",
      "Baseline Accuracy: 65.08 %\n"
     ]
    }
   ],
   "source": [
    "# examine models for accuracy\n",
    "m1_accuracy = (m1_df.actual == m1_df.model1).mean()\n",
    "m2_accuracy = (m2_df.actual == m2_df.model2).mean()\n",
    "m3_accuracy = (m3_df.actual == m3_df.model3).mean()\n",
    "m4_accuracy = (m4_df.actual == m4_df.model4).mean()\n",
    "\n",
    "# determine the baseline accuracy\n",
    "baseline_accuracy = (m1_df.actual == m1_df.baseline).mean()\n",
    "\n",
    "#print the results\n",
    "print(\"Model 1 Accuracy:\", round(m1_accuracy*100, 2),\"%\")\n",
    "print(\"Model 2 Accuracy:\", round(m2_accuracy*100, 2),\"%\")\n",
    "print(\"Model 3 Accuracy:\", round(m3_accuracy*100, 2),\"%\")\n",
    "print(\"Model 4 Accuracy:\", round(m4_accuracy*100, 2),\"%\")\n",
    "print(\"Baseline Accuracy:\", round(baseline_accuracy*100, 2),\"%\")\n"
   ]
  },
  {
   "cell_type": "markdown",
   "metadata": {},
   "source": [
    "b. Suppose you are working on a team that solely deals with dog pictures. Which of these models would you recomend for Phase I? For Phase II?\n",
    "- Due to the team working on only dog pictures, 'dog' will be assigned to the positive case.\n",
    "- Since phase 1 soley deals with dog pictures and will be reviewed in phase 2, a model that will not label a dog as a cat which is a false negative will be best. A model with a higher recall is best.\n",
    "- For phase two because there in human intervention they will need a model with high percision, a model that will have the least false positives where a cat is labeled as a dog."
   ]
  },
  {
   "cell_type": "code",
   "execution_count": 46,
   "metadata": {},
   "outputs": [
    {
     "name": "stdout",
     "output_type": "stream",
     "text": [
      "Model 1 Recall: 80.33 %\n",
      "Model 2 Recall: 49.08 %\n",
      "Model 3 Recall: 50.86 %\n",
      "Model 4 Recall: 95.57 %\n"
     ]
    }
   ],
   "source": [
    "# create a subset of the models where actual = dog\n",
    "m1_df_dog = m1_df[m1_df.actual == 'dog']\n",
    "m2_df_dog = m2_df[m2_df.actual == 'dog']\n",
    "m3_df_dog = m3_df[m3_df.actual == 'dog']\n",
    "m4_df_dog = m4_df[m4_df.actual == 'dog']\n",
    "# use the subset to determine the recall\n",
    "m1_recall = (m1_df_dog.actual == m1_df_dog.model1).mean()\n",
    "m2_recall = (m2_df_dog.actual == m2_df_dog.model2).mean()\n",
    "m3_recall = (m3_df_dog.actual == m3_df_dog.model3).mean()\n",
    "m4_recall = (m4_df_dog.actual == m4_df_dog.model4).mean()\n",
    "# print the results\n",
    "print(\"Model 1 Recall:\", round(m1_recall*100, 2),\"%\")\n",
    "print(\"Model 2 Recall:\", round(m2_recall*100, 2),\"%\")\n",
    "print(\"Model 3 Recall:\", round(m3_recall*100, 2),\"%\")\n",
    "print(\"Model 4 Recall:\", round(m4_recall*100, 2),\"%\")"
   ]
  },
  {
   "cell_type": "markdown",
   "metadata": {},
   "source": [
    "Phase 1 would be best with model 4 due to the highest recall."
   ]
  },
  {
   "cell_type": "code",
   "execution_count": 53,
   "metadata": {},
   "outputs": [
    {
     "name": "stdout",
     "output_type": "stream",
     "text": [
      "Model 1 Precision: 89.0 %\n",
      "Model 2 Precision: 89.32 %\n",
      "Model 3 Precision: 65.99 %\n",
      "Model 4 Precision: 73.12 %\n"
     ]
    }
   ],
   "source": [
    "# create a subset of the models where models == dog\n",
    "m1_df_dog = m1_df[m1_df.model1 == 'dog']\n",
    "m2_df_dog = m2_df[m2_df.model2 == 'dog']\n",
    "m3_df_dog = m3_df[m3_df.model3 == 'dog']\n",
    "m4_df_dog = m4_df[m4_df.model4 == 'dog']\n",
    "# determine the precision for each model\n",
    "m1_precision = (m1_df_dog.actual == m1_df_dog.model1).mean()\n",
    "m2_precision = (m2_df_dog.actual == m2_df_dog.model2).mean()\n",
    "m3_precision = (m3_df_dog.actual == m3_df_dog.model3).mean()\n",
    "m4_precision = (m4_df_dog.actual == m4_df_dog.model4).mean()\n",
    "# print the results\n",
    "print(\"Model 1 Precision:\", round(m1_precision*100, 2),\"%\")\n",
    "print(\"Model 2 Precision:\", round(m2_precision*100, 2),\"%\")\n",
    "print(\"Model 3 Precision:\", round(m3_precision*100, 2),\"%\")\n",
    "print(\"Model 4 Precision:\", round(m4_precision*100, 2),\"%\")"
   ]
  },
  {
   "cell_type": "markdown",
   "metadata": {},
   "source": [
    "Phase 2 would be better off with Model 2 due to higher precision."
   ]
  },
  {
   "cell_type": "markdown",
   "metadata": {},
   "source": [
    "c. Suppose you are working on a team that solely deals with cat pictures. Which of these models would you recomend for Phase I? For Phase II?"
   ]
  },
  {
   "cell_type": "code",
   "execution_count": 55,
   "metadata": {},
   "outputs": [
    {
     "name": "stdout",
     "output_type": "stream",
     "text": [
      "Model 1 Recall: 81.5 %\n",
      "Model 2 Recall: 89.06 %\n",
      "Model 3 Recall: 51.15 %\n",
      "Model 4 Recall: 34.54 %\n"
     ]
    }
   ],
   "source": [
    "# create a subset of the models where actual = cat\n",
    "m1_df_cat = m1_df[m1_df.actual == 'cat']\n",
    "m2_df_cat = m2_df[m2_df.actual == 'cat']\n",
    "m3_df_cat = m3_df[m3_df.actual == 'cat']\n",
    "m4_df_cat = m4_df[m4_df.actual == 'cat']\n",
    "# determine the recall for each model\n",
    "m1_recall = (m1_df_cat.actual == m1_df_cat.model1).mean()\n",
    "m2_recall = (m2_df_cat.actual == m2_df_cat.model2).mean()   \n",
    "m3_recall = (m3_df_cat.actual == m3_df_cat.model3).mean()\n",
    "m4_recall = (m4_df_cat.actual == m4_df_cat.model4).mean()\n",
    "# print the results\n",
    "print(\"Model 1 Recall:\", round(m1_recall*100, 2),\"%\")\n",
    "print(\"Model 2 Recall:\", round(m2_recall*100, 2),\"%\")\n",
    "print(\"Model 3 Recall:\", round(m3_recall*100, 2),\"%\")\n",
    "print(\"Model 4 Recall:\", round(m4_recall*100, 2),\"%\")"
   ]
  },
  {
   "cell_type": "markdown",
   "metadata": {},
   "source": [
    "Phase 1 I would recommend model 2."
   ]
  },
  {
   "cell_type": "code",
   "execution_count": 54,
   "metadata": {},
   "outputs": [
    {
     "name": "stdout",
     "output_type": "stream",
     "text": [
      "Model 1 Precision: 68.98 %\n",
      "Model 2 Precision: 48.41 %\n",
      "Model 3 Precision: 35.83 %\n",
      "Model 4 Precision: 80.72 %\n"
     ]
    }
   ],
   "source": [
    "# create a subset of the models where model == cat\n",
    "m1_df_cat = m1_df[m1_df.model1 == 'cat']\n",
    "m2_df_cat = m2_df[m2_df.model2 == 'cat']\n",
    "m3_df_cat = m3_df[m3_df.model3 == 'cat']\n",
    "m4_df_cat = m4_df[m4_df.model4 == 'cat']\n",
    "# determine the precision for each model\n",
    "m1_precision = (m1_df_cat.actual == m1_df_cat.model1).mean()\n",
    "m2_precision = (m2_df_cat.actual == m2_df_cat.model2).mean()\n",
    "m3_precision = (m3_df_cat.actual == m3_df_cat.model3).mean()\n",
    "m4_precision = (m4_df_cat.actual == m4_df_cat.model4).mean()\n",
    "# print the results\n",
    "print(\"Model 1 Precision:\", round(m1_precision*100, 2),\"%\")\n",
    "print(\"Model 2 Precision:\", round(m2_precision*100, 2),\"%\")\n",
    "print(\"Model 3 Precision:\", round(m3_precision*100, 2),\"%\")\n",
    "print(\"Model 4 Precision:\", round(m4_precision*100, 2),\"%\")\n"
   ]
  },
  {
   "cell_type": "markdown",
   "metadata": {},
   "source": [
    "Phase 2 i would recommend model 4."
   ]
  },
  {
   "cell_type": "code",
   "execution_count": null,
   "metadata": {},
   "outputs": [],
   "source": []
  }
 ],
 "metadata": {
  "interpreter": {
   "hash": "3067ead486e059ec00ffe7555bdb889e6e264a24dc711bf108106cc7baee8d5d"
  },
  "kernelspec": {
   "display_name": "Python 3.9.7 ('base')",
   "language": "python",
   "name": "python3"
  },
  "language_info": {
   "codemirror_mode": {
    "name": "ipython",
    "version": 3
   },
   "file_extension": ".py",
   "mimetype": "text/x-python",
   "name": "python",
   "nbconvert_exporter": "python",
   "pygments_lexer": "ipython3",
   "version": "3.9.7"
  },
  "orig_nbformat": 4
 },
 "nbformat": 4,
 "nbformat_minor": 2
}
