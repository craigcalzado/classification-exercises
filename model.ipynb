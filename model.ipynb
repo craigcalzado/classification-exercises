{
 "cells": [
  {
   "cell_type": "code",
   "execution_count": 2,
   "metadata": {},
   "outputs": [
    {
     "name": "stdout",
     "output_type": "stream",
     "text": [
      "Let me get that for you...\n",
      "Let me get that for you...\n",
      "Let me get that for you...\n"
     ]
    }
   ],
   "source": [
    "# imports\n",
    "# remove warnings\n",
    "import warnings\n",
    "warnings.filterwarnings(\"ignore\")\n",
    "# import libraries\n",
    "import numpy as np\n",
    "from pydataset import data\n",
    "import pandas as pd\n",
    "# import sklearn\n",
    "from sklearn.model_selection import train_test_split\n",
    "from sklearn.tree import DecisionTreeClassifier, plot_tree\n",
    "from sklearn.metrics import classification_report\n",
    "from sklearn.metrics import confusion_matrix\n",
    "from sklearn.metrics import accuracy_score\n",
    "from sklearn.metrics import precision_score\n",
    "from sklearn.metrics import recall_score\n",
    "from sklearn.metrics import f1_score\n",
    "# import visualizations\n",
    "import matplotlib.pyplot as plt\n",
    "import seaborn as sns\n",
    "# import useful files\n",
    "import acquire\n",
    "import prepare"
   ]
  },
  {
   "cell_type": "markdown",
   "metadata": {},
   "source": [
    "1. Using the titanic data, in your classification-exercises repository, create a notebook, model.ipynb where you will do the following:"
   ]
  },
  {
   "cell_type": "markdown",
   "metadata": {},
   "source": []
  },
  {
   "cell_type": "code",
   "execution_count": 3,
   "metadata": {},
   "outputs": [
    {
     "name": "stdout",
     "output_type": "stream",
     "text": [
      "Let me get that for you...\n"
     ]
    },
    {
     "data": {
      "text/html": [
       "<div>\n",
       "<style scoped>\n",
       "    .dataframe tbody tr th:only-of-type {\n",
       "        vertical-align: middle;\n",
       "    }\n",
       "\n",
       "    .dataframe tbody tr th {\n",
       "        vertical-align: top;\n",
       "    }\n",
       "\n",
       "    .dataframe thead th {\n",
       "        text-align: right;\n",
       "    }\n",
       "</style>\n",
       "<table border=\"1\" class=\"dataframe\">\n",
       "  <thead>\n",
       "    <tr style=\"text-align: right;\">\n",
       "      <th></th>\n",
       "      <th>Unnamed: 0</th>\n",
       "      <th>passenger_id</th>\n",
       "      <th>survived</th>\n",
       "      <th>pclass</th>\n",
       "      <th>sex</th>\n",
       "      <th>age</th>\n",
       "      <th>sibsp</th>\n",
       "      <th>parch</th>\n",
       "      <th>fare</th>\n",
       "      <th>embarked</th>\n",
       "      <th>class</th>\n",
       "      <th>deck</th>\n",
       "      <th>embark_town</th>\n",
       "      <th>alone</th>\n",
       "    </tr>\n",
       "  </thead>\n",
       "  <tbody>\n",
       "    <tr>\n",
       "      <th>0</th>\n",
       "      <td>0</td>\n",
       "      <td>0</td>\n",
       "      <td>0</td>\n",
       "      <td>3</td>\n",
       "      <td>male</td>\n",
       "      <td>22.0</td>\n",
       "      <td>1</td>\n",
       "      <td>0</td>\n",
       "      <td>7.2500</td>\n",
       "      <td>S</td>\n",
       "      <td>Third</td>\n",
       "      <td>NaN</td>\n",
       "      <td>Southampton</td>\n",
       "      <td>0</td>\n",
       "    </tr>\n",
       "    <tr>\n",
       "      <th>1</th>\n",
       "      <td>1</td>\n",
       "      <td>1</td>\n",
       "      <td>1</td>\n",
       "      <td>1</td>\n",
       "      <td>female</td>\n",
       "      <td>38.0</td>\n",
       "      <td>1</td>\n",
       "      <td>0</td>\n",
       "      <td>71.2833</td>\n",
       "      <td>C</td>\n",
       "      <td>First</td>\n",
       "      <td>C</td>\n",
       "      <td>Cherbourg</td>\n",
       "      <td>0</td>\n",
       "    </tr>\n",
       "    <tr>\n",
       "      <th>2</th>\n",
       "      <td>2</td>\n",
       "      <td>2</td>\n",
       "      <td>1</td>\n",
       "      <td>3</td>\n",
       "      <td>female</td>\n",
       "      <td>26.0</td>\n",
       "      <td>0</td>\n",
       "      <td>0</td>\n",
       "      <td>7.9250</td>\n",
       "      <td>S</td>\n",
       "      <td>Third</td>\n",
       "      <td>NaN</td>\n",
       "      <td>Southampton</td>\n",
       "      <td>1</td>\n",
       "    </tr>\n",
       "    <tr>\n",
       "      <th>3</th>\n",
       "      <td>3</td>\n",
       "      <td>3</td>\n",
       "      <td>1</td>\n",
       "      <td>1</td>\n",
       "      <td>female</td>\n",
       "      <td>35.0</td>\n",
       "      <td>1</td>\n",
       "      <td>0</td>\n",
       "      <td>53.1000</td>\n",
       "      <td>S</td>\n",
       "      <td>First</td>\n",
       "      <td>C</td>\n",
       "      <td>Southampton</td>\n",
       "      <td>0</td>\n",
       "    </tr>\n",
       "    <tr>\n",
       "      <th>4</th>\n",
       "      <td>4</td>\n",
       "      <td>4</td>\n",
       "      <td>0</td>\n",
       "      <td>3</td>\n",
       "      <td>male</td>\n",
       "      <td>35.0</td>\n",
       "      <td>0</td>\n",
       "      <td>0</td>\n",
       "      <td>8.0500</td>\n",
       "      <td>S</td>\n",
       "      <td>Third</td>\n",
       "      <td>NaN</td>\n",
       "      <td>Southampton</td>\n",
       "      <td>1</td>\n",
       "    </tr>\n",
       "  </tbody>\n",
       "</table>\n",
       "</div>"
      ],
      "text/plain": [
       "   Unnamed: 0  passenger_id  survived  pclass     sex   age  sibsp  parch  \\\n",
       "0           0             0         0       3    male  22.0      1      0   \n",
       "1           1             1         1       1  female  38.0      1      0   \n",
       "2           2             2         1       3  female  26.0      0      0   \n",
       "3           3             3         1       1  female  35.0      1      0   \n",
       "4           4             4         0       3    male  35.0      0      0   \n",
       "\n",
       "      fare embarked  class deck  embark_town  alone  \n",
       "0   7.2500        S  Third  NaN  Southampton      0  \n",
       "1  71.2833        C  First    C    Cherbourg      0  \n",
       "2   7.9250        S  Third  NaN  Southampton      1  \n",
       "3  53.1000        S  First    C  Southampton      0  \n",
       "4   8.0500        S  Third  NaN  Southampton      1  "
      ]
     },
     "execution_count": 3,
     "metadata": {},
     "output_type": "execute_result"
    }
   ],
   "source": [
    "# aquire the titanic data\n",
    "df = acquire.get_titanic_data()\n",
    "df.head()"
   ]
  },
  {
   "cell_type": "code",
   "execution_count": 4,
   "metadata": {},
   "outputs": [
    {
     "name": "stdout",
     "output_type": "stream",
     "text": [
      "<class 'pandas.core.frame.DataFrame'>\n",
      "RangeIndex: 891 entries, 0 to 890\n",
      "Data columns (total 14 columns):\n",
      " #   Column        Non-Null Count  Dtype  \n",
      "---  ------        --------------  -----  \n",
      " 0   Unnamed: 0    891 non-null    int64  \n",
      " 1   passenger_id  891 non-null    int64  \n",
      " 2   survived      891 non-null    int64  \n",
      " 3   pclass        891 non-null    int64  \n",
      " 4   sex           891 non-null    object \n",
      " 5   age           714 non-null    float64\n",
      " 6   sibsp         891 non-null    int64  \n",
      " 7   parch         891 non-null    int64  \n",
      " 8   fare          891 non-null    float64\n",
      " 9   embarked      889 non-null    object \n",
      " 10  class         891 non-null    object \n",
      " 11  deck          203 non-null    object \n",
      " 12  embark_town   889 non-null    object \n",
      " 13  alone         891 non-null    int64  \n",
      "dtypes: float64(2), int64(7), object(5)\n",
      "memory usage: 97.6+ KB\n",
      "---------------------\n"
     ]
    },
    {
     "data": {
      "text/plain": [
       "Unnamed: 0        0\n",
       "passenger_id      0\n",
       "survived          0\n",
       "pclass            0\n",
       "sex               0\n",
       "age             177\n",
       "sibsp             0\n",
       "parch             0\n",
       "fare              0\n",
       "embarked          2\n",
       "class             0\n",
       "deck            688\n",
       "embark_town       2\n",
       "alone             0\n",
       "dtype: int64"
      ]
     },
     "execution_count": 4,
     "metadata": {},
     "output_type": "execute_result"
    }
   ],
   "source": [
    "# check data for discrepancies\n",
    "df.info()\n",
    "print('---------------------')\n",
    "# check for missing values\n",
    "df.isnull().sum()"
   ]
  },
  {
   "cell_type": "code",
   "execution_count": 5,
   "metadata": {},
   "outputs": [
    {
     "name": "stdout",
     "output_type": "stream",
     "text": [
      "Let me get that for you...\n"
     ]
    },
    {
     "data": {
      "text/html": [
       "<div>\n",
       "<style scoped>\n",
       "    .dataframe tbody tr th:only-of-type {\n",
       "        vertical-align: middle;\n",
       "    }\n",
       "\n",
       "    .dataframe tbody tr th {\n",
       "        vertical-align: top;\n",
       "    }\n",
       "\n",
       "    .dataframe thead th {\n",
       "        text-align: right;\n",
       "    }\n",
       "</style>\n",
       "<table border=\"1\" class=\"dataframe\">\n",
       "  <thead>\n",
       "    <tr style=\"text-align: right;\">\n",
       "      <th></th>\n",
       "      <th>survived</th>\n",
       "      <th>pclass</th>\n",
       "      <th>sibsp</th>\n",
       "      <th>parch</th>\n",
       "      <th>fare</th>\n",
       "      <th>alone</th>\n",
       "      <th>sex_male</th>\n",
       "      <th>embark_town_Queenstown</th>\n",
       "      <th>embark_town_Southampton</th>\n",
       "    </tr>\n",
       "  </thead>\n",
       "  <tbody>\n",
       "    <tr>\n",
       "      <th>0</th>\n",
       "      <td>0</td>\n",
       "      <td>3</td>\n",
       "      <td>1</td>\n",
       "      <td>0</td>\n",
       "      <td>7.2500</td>\n",
       "      <td>0</td>\n",
       "      <td>1</td>\n",
       "      <td>0</td>\n",
       "      <td>1</td>\n",
       "    </tr>\n",
       "    <tr>\n",
       "      <th>1</th>\n",
       "      <td>1</td>\n",
       "      <td>1</td>\n",
       "      <td>1</td>\n",
       "      <td>0</td>\n",
       "      <td>71.2833</td>\n",
       "      <td>0</td>\n",
       "      <td>0</td>\n",
       "      <td>0</td>\n",
       "      <td>0</td>\n",
       "    </tr>\n",
       "    <tr>\n",
       "      <th>2</th>\n",
       "      <td>1</td>\n",
       "      <td>3</td>\n",
       "      <td>0</td>\n",
       "      <td>0</td>\n",
       "      <td>7.9250</td>\n",
       "      <td>1</td>\n",
       "      <td>0</td>\n",
       "      <td>0</td>\n",
       "      <td>1</td>\n",
       "    </tr>\n",
       "    <tr>\n",
       "      <th>3</th>\n",
       "      <td>1</td>\n",
       "      <td>1</td>\n",
       "      <td>1</td>\n",
       "      <td>0</td>\n",
       "      <td>53.1000</td>\n",
       "      <td>0</td>\n",
       "      <td>0</td>\n",
       "      <td>0</td>\n",
       "      <td>1</td>\n",
       "    </tr>\n",
       "    <tr>\n",
       "      <th>4</th>\n",
       "      <td>0</td>\n",
       "      <td>3</td>\n",
       "      <td>0</td>\n",
       "      <td>0</td>\n",
       "      <td>8.0500</td>\n",
       "      <td>1</td>\n",
       "      <td>1</td>\n",
       "      <td>0</td>\n",
       "      <td>1</td>\n",
       "    </tr>\n",
       "  </tbody>\n",
       "</table>\n",
       "</div>"
      ],
      "text/plain": [
       "   survived  pclass  sibsp  parch     fare  alone  sex_male  \\\n",
       "0         0       3      1      0   7.2500      0         1   \n",
       "1         1       1      1      0  71.2833      0         0   \n",
       "2         1       3      0      0   7.9250      1         0   \n",
       "3         1       1      1      0  53.1000      0         0   \n",
       "4         0       3      0      0   8.0500      1         1   \n",
       "\n",
       "   embark_town_Queenstown  embark_town_Southampton  \n",
       "0                       0                        1  \n",
       "1                       0                        0  \n",
       "2                       0                        1  \n",
       "3                       0                        1  \n",
       "4                       0                        1  "
      ]
     },
     "execution_count": 5,
     "metadata": {},
     "output_type": "execute_result"
    }
   ],
   "source": [
    "# prepare the titanic data\n",
    "df = prepare.prep_titanic(df)\n",
    "df.head()"
   ]
  },
  {
   "cell_type": "code",
   "execution_count": 6,
   "metadata": {},
   "outputs": [
    {
     "name": "stdout",
     "output_type": "stream",
     "text": [
      "<class 'pandas.core.frame.DataFrame'>\n",
      "RangeIndex: 891 entries, 0 to 890\n",
      "Data columns (total 9 columns):\n",
      " #   Column                   Non-Null Count  Dtype  \n",
      "---  ------                   --------------  -----  \n",
      " 0   survived                 891 non-null    int64  \n",
      " 1   pclass                   891 non-null    int64  \n",
      " 2   sibsp                    891 non-null    int64  \n",
      " 3   parch                    891 non-null    int64  \n",
      " 4   fare                     891 non-null    float64\n",
      " 5   alone                    891 non-null    int64  \n",
      " 6   sex_male                 891 non-null    uint8  \n",
      " 7   embark_town_Queenstown   891 non-null    uint8  \n",
      " 8   embark_town_Southampton  891 non-null    uint8  \n",
      "dtypes: float64(1), int64(5), uint8(3)\n",
      "memory usage: 44.5 KB\n",
      "---------------------\n"
     ]
    },
    {
     "data": {
      "text/plain": [
       "survived                   0\n",
       "pclass                     0\n",
       "sibsp                      0\n",
       "parch                      0\n",
       "fare                       0\n",
       "alone                      0\n",
       "sex_male                   0\n",
       "embark_town_Queenstown     0\n",
       "embark_town_Southampton    0\n",
       "dtype: int64"
      ]
     },
     "execution_count": 6,
     "metadata": {},
     "output_type": "execute_result"
    }
   ],
   "source": [
    "# check data for discrepancies\n",
    "df.info()\n",
    "print('---------------------')\n",
    "# check for missing values\n",
    "df.isnull().sum()"
   ]
  },
  {
   "cell_type": "code",
   "execution_count": 7,
   "metadata": {},
   "outputs": [
    {
     "name": "stdout",
     "output_type": "stream",
     "text": [
      "(498, 9) (214, 9) (179, 9)\n",
      "---------------------\n",
      "<class 'pandas.core.frame.DataFrame'>\n",
      "Int64Index: 498 entries, 789 to 104\n",
      "Data columns (total 9 columns):\n",
      " #   Column                   Non-Null Count  Dtype  \n",
      "---  ------                   --------------  -----  \n",
      " 0   survived                 498 non-null    int64  \n",
      " 1   pclass                   498 non-null    int64  \n",
      " 2   sibsp                    498 non-null    int64  \n",
      " 3   parch                    498 non-null    int64  \n",
      " 4   fare                     498 non-null    float64\n",
      " 5   alone                    498 non-null    int64  \n",
      " 6   sex_male                 498 non-null    uint8  \n",
      " 7   embark_town_Queenstown   498 non-null    uint8  \n",
      " 8   embark_town_Southampton  498 non-null    uint8  \n",
      "dtypes: float64(1), int64(5), uint8(3)\n",
      "memory usage: 28.7 KB\n",
      "None\n"
     ]
    }
   ],
   "source": [
    "# split the titanic data\n",
    "train, validate, test = prepare.split_titanic_data(df)\n",
    "print(train.shape, validate.shape, test.shape)\n",
    "print('---------------------')\n",
    "print(train.info())"
   ]
  },
  {
   "cell_type": "code",
   "execution_count": 8,
   "metadata": {},
   "outputs": [],
   "source": [
    "# split the sample variables in X and y\n",
    "# y_*: Series, target variable\n",
    "# X_*: DataFrame, features\n",
    "y_train = train.survived\n",
    "X_train = train.drop(columns=['survived'])\n",
    "\n",
    "# create x and y validate\n",
    "X_validate = validate.drop(columns=['survived'])\n",
    "y_validate = validate.survived\n",
    "\n",
    "# create x and y test\n",
    "X_test = test.drop(columns=['survived'])\n",
    "y_test = test.survived\n"
   ]
  },
  {
   "cell_type": "markdown",
   "metadata": {},
   "source": [
    "1. What is your baseline prediction? What is your baseline accuracy? \n",
    "\n",
    "remember: your baseline prediction for a classification problem is predicting the most prevelant class in the training dataset (the mode). When you make those predictions, what is your accuracy? This is your baseline accuracy."
   ]
  },
  {
   "cell_type": "code",
   "execution_count": 9,
   "metadata": {},
   "outputs": [
    {
     "data": {
      "text/plain": [
       "0    307\n",
       "1    191\n",
       "Name: survived, dtype: int64"
      ]
     },
     "execution_count": 9,
     "metadata": {},
     "output_type": "execute_result"
    }
   ],
   "source": [
    "# check the y_train data\n",
    "y_train.value_counts()"
   ]
  },
  {
   "cell_type": "code",
   "execution_count": 10,
   "metadata": {},
   "outputs": [
    {
     "name": "stdout",
     "output_type": "stream",
     "text": [
      "The survival baseline is: 0.6164658634538153\n"
     ]
    }
   ],
   "source": [
    "# create a baseline model utilizing y_train model\n",
    "titanic_baseline = (y_train == 0).mean()\n",
    "print('The survival baseline is:', titanic_baseline)"
   ]
  },
  {
   "cell_type": "markdown",
   "metadata": {},
   "source": [
    "2. Fit the decision tree classifier to your training sample and transform (i.e. make predictions on the training sample)"
   ]
  },
  {
   "cell_type": "code",
   "execution_count": 11,
   "metadata": {},
   "outputs": [],
   "source": [
    "# create a model that is more accurate than the baseline\n",
    "# create a decision tree model\n",
    "titanic_model = DecisionTreeClassifier(max_depth=3, random_state=1101)\n",
    "# fit the model\n",
    "titanic_model = titanic_model.fit(X_train, y_train)"
   ]
  },
  {
   "cell_type": "code",
   "execution_count": 12,
   "metadata": {},
   "outputs": [
    {
     "data": {
      "image/png": "[encoded data removed]",
      "text/plain": [
       "<Figure size 432x288 with 1 Axes>"
      ]
     },
     "metadata": {
      "needs_background": "light"
     },
     "output_type": "display_data"
    }
   ],
   "source": [
    "# visualize the model\n",
    "# plot the decision tree\n",
    "plot_tree(titanic_model, feature_names=X_train.columns, class_names=['did not survive', 'survived'], filled=True)\n",
    "plt.show()"
   ]
  },
  {
   "cell_type": "code",
   "execution_count": 13,
   "metadata": {},
   "outputs": [
    {
     "data": {
      "text/plain": [
       "array([[0.89954338, 0.10045662],\n",
       "       [0.01204819, 0.98795181],\n",
       "       [0.89954338, 0.10045662],\n",
       "       [0.89954338, 0.10045662],\n",
       "       [0.89954338, 0.10045662]])"
      ]
     },
     "execution_count": 13,
     "metadata": {},
     "output_type": "execute_result"
    }
   ],
   "source": [
    "# utilize the model to predict the outcome of the test data\n",
    "# predict the outcome of the test data\n",
    "y_pred = titanic_model.predict(X_test)\n",
    "y_pred[0:5]\n",
    "# estimate the probability of survival\n",
    "y_prob = titanic_model.predict_proba(X_test)\n",
    "y_prob[0:5]"
   ]
  },
  {
   "cell_type": "code",
   "execution_count": 14,
   "metadata": {},
   "outputs": [
    {
     "name": "stdout",
     "output_type": "stream",
     "text": [
      "The accuracy of the model is: 0.7988826815642458\n"
     ]
    }
   ],
   "source": [
    "# check the accuracy of the model\n",
    "print('The accuracy of the model is:', titanic_model.score(X_test, y_test))\n"
   ]
  },
  {
   "cell_type": "markdown",
   "metadata": {},
   "source": [
    "3. Evaluate your in-sample results using the model score, confusion matrix, and classification report."
   ]
  },
  {
   "cell_type": "code",
   "execution_count": 15,
   "metadata": {},
   "outputs": [
    {
     "name": "stdout",
     "output_type": "stream",
     "text": [
      "The accuracy of the model is: 0.7988826815642458\n"
     ]
    }
   ],
   "source": [
    "# create a model score, confusion matrix, and classification report\n",
    "# create a model score\n",
    "titanic_score = titanic_model.score(X_test, y_test)\n",
    "print('The accuracy of the model is:', titanic_score)"
   ]
  },
  {
   "cell_type": "code",
   "execution_count": 16,
   "metadata": {},
   "outputs": [
    {
     "data": {
      "text/html": [
       "<div>\n",
       "<style scoped>\n",
       "    .dataframe tbody tr th:only-of-type {\n",
       "        vertical-align: middle;\n",
       "    }\n",
       "\n",
       "    .dataframe tbody tr th {\n",
       "        vertical-align: top;\n",
       "    }\n",
       "\n",
       "    .dataframe thead th {\n",
       "        text-align: right;\n",
       "    }\n",
       "</style>\n",
       "<table border=\"1\" class=\"dataframe\">\n",
       "  <thead>\n",
       "    <tr style=\"text-align: right;\">\n",
       "      <th></th>\n",
       "      <th>did not survive</th>\n",
       "      <th>survived</th>\n",
       "    </tr>\n",
       "  </thead>\n",
       "  <tbody>\n",
       "    <tr>\n",
       "      <th>did not survive</th>\n",
       "      <td>93</td>\n",
       "      <td>17</td>\n",
       "    </tr>\n",
       "    <tr>\n",
       "      <th>survived</th>\n",
       "      <td>19</td>\n",
       "      <td>50</td>\n",
       "    </tr>\n",
       "  </tbody>\n",
       "</table>\n",
       "</div>"
      ],
      "text/plain": [
       "                 did not survive  survived\n",
       "did not survive               93        17\n",
       "survived                      19        50"
      ]
     },
     "execution_count": 16,
     "metadata": {},
     "output_type": "execute_result"
    }
   ],
   "source": [
    "\n",
    "# create a confusion matrix\n",
    "titanic_confusion_matrix = confusion_matrix(y_test, y_pred)\n",
    "labels = ['did not survive', 'survived']\n",
    "pd.DataFrame(titanic_confusion_matrix, index=labels, columns=labels)"
   ]
  },
  {
   "cell_type": "code",
   "execution_count": 17,
   "metadata": {},
   "outputs": [],
   "source": [
    "# create variable from the classification report\n",
    "TP = titanic_confusion_matrix[1, 1]\n",
    "TN = titanic_confusion_matrix[0, 0]\n",
    "FP = titanic_confusion_matrix[0, 1]\n",
    "FN = titanic_confusion_matrix[1, 0]"
   ]
  },
  {
   "cell_type": "code",
   "execution_count": 18,
   "metadata": {},
   "outputs": [
    {
     "name": "stdout",
     "output_type": "stream",
     "text": [
      "              precision    recall  f1-score   support\n",
      "\n",
      "           0       0.83      0.85      0.84       110\n",
      "           1       0.75      0.72      0.74        69\n",
      "\n",
      "    accuracy                           0.80       179\n",
      "   macro avg       0.79      0.79      0.79       179\n",
      "weighted avg       0.80      0.80      0.80       179\n",
      "\n"
     ]
    }
   ],
   "source": [
    "# create a classification report\n",
    "titanic_classification_report = classification_report(y_test, y_pred)\n",
    "print(titanic_classification_report)\n"
   ]
  },
  {
   "cell_type": "markdown",
   "metadata": {},
   "source": [
    "4. Compute: Accuracy, true positive rate, false positive rate, true negative rate, false negative rate, precision, recall, f1-score, and support."
   ]
  },
  {
   "cell_type": "code",
   "execution_count": 19,
   "metadata": {},
   "outputs": [
    {
     "name": "stdout",
     "output_type": "stream",
     "text": [
      "The accuracy of the model is: 0.7988826815642458\n",
      "The true positive rate is: 0.7246376811594203\n",
      "The false positive rate is: 0.15454545454545454\n",
      "The true negative rate is: 0.8454545454545455\n",
      "The false negative rate is: 0.2753623188405797\n",
      "The precision is: 0.746268656716418\n",
      "The recall is: 0.7246376811594203\n",
      "The f1 score is: 0.7352941176470589\n",
      "The support is: [110  69]\n"
     ]
    }
   ],
   "source": [
    "# accuracy score\n",
    "titanic_accuracy_score = accuracy_score(y_test, y_pred)\n",
    "print('The accuracy of the model is:', titanic_score)\n",
    "# true positive rate\n",
    "titanic_tp = TP / (TP + FN)\n",
    "print('The true positive rate is:', titanic_tp)\n",
    "# false positive rate\n",
    "titanic_fp = FP / (FP + TN)\n",
    "print('The false positive rate is:', titanic_fp)\n",
    "# true negative rate\n",
    "titanic_tn = TN / (TN + FP)\n",
    "print('The true negative rate is:', titanic_tn)\n",
    "# false negative rate\n",
    "titanic_fn = FN / (FN + TP)\n",
    "print('The false negative rate is:', titanic_fn)\n",
    "# precision\n",
    "titanic_precision = precision_score(y_test, y_pred)\n",
    "print('The precision is:', titanic_precision)\n",
    "# recall\n",
    "titanic_recall = recall_score(y_test, y_pred)\n",
    "print('The recall is:', titanic_recall)\n",
    "# f1 score\n",
    "titanic_f1 = f1_score(y_test, y_pred)\n",
    "print('The f1 score is:', titanic_f1)\n",
    "# support\n",
    "titanic_support = titanic_confusion_matrix.sum(axis=1)\n",
    "print('The support is:', titanic_support)\n"
   ]
  },
  {
   "cell_type": "markdown",
   "metadata": {},
   "source": [
    "5. Run through steps 2-4 using a different max_depth value."
   ]
  },
  {
   "cell_type": "code",
   "execution_count": 20,
   "metadata": {},
   "outputs": [],
   "source": [
    "# change the depth of the decision tree\n",
    "# create a decision tree model\n",
    "titanic_model2 = DecisionTreeClassifier(max_depth=2, random_state=1101)\n",
    "# fit the model\n",
    "titanic_model2 = titanic_model2.fit(X_train, y_train)"
   ]
  },
  {
   "cell_type": "code",
   "execution_count": 21,
   "metadata": {},
   "outputs": [
    {
     "name": "stdout",
     "output_type": "stream",
     "text": [
      "The accuracy of the model is: 0.7932960893854749\n",
      "-----------------------------------------------\n",
      "                 did not survive  survived\n",
      "did not survive               93        17\n",
      "survived                      19        50\n",
      "-----------------------------------------------\n",
      "              precision    recall  f1-score   support\n",
      "\n",
      "           0       0.83      0.85      0.84       110\n",
      "           1       0.75      0.72      0.74        69\n",
      "\n",
      "    accuracy                           0.80       179\n",
      "   macro avg       0.79      0.79      0.79       179\n",
      "weighted avg       0.80      0.80      0.80       179\n",
      "\n",
      "-----------------------------------------------\n"
     ]
    }
   ],
   "source": [
    "# titanic_model2 model score, confusion matrix, and classification report\n",
    "# titanic_model2 model score\n",
    "titanic_score2 = titanic_model2.score(X_test, y_test)\n",
    "print('The accuracy of the model is:', titanic_score2)\n",
    "print('-----------------------------------------------')\n",
    "# titanic_model2 confusion matrix\n",
    "titanic_confusion_matrix2 = confusion_matrix(y_test, y_pred)\n",
    "labels = ['did not survive', 'survived']\n",
    "print(pd.DataFrame(titanic_confusion_matrix2, index=labels, columns=labels))\n",
    "print('-----------------------------------------------')\n",
    "# titanic_model2 classification report\n",
    "titanic_classification_report2 = classification_report(y_test, y_pred)\n",
    "print(titanic_classification_report2)\n",
    "print('-----------------------------------------------')"
   ]
  },
  {
   "cell_type": "markdown",
   "metadata": {},
   "source": [
    "6. Which model performs better on your in-sample data?\n",
    "    - Answer: The model 1 performs better "
   ]
  },
  {
   "cell_type": "markdown",
   "metadata": {},
   "source": [
    "Which model performs best on your out-of-sample data, the validate set?\n"
   ]
  },
  {
   "cell_type": "code",
   "execution_count": 22,
   "metadata": {},
   "outputs": [
    {
     "name": "stdout",
     "output_type": "stream",
     "text": [
      "Accuracy of Decision Tree on validation set: 0.78\n",
      "Accuracy of Decision Tree on validation set: 0.75\n"
     ]
    }
   ],
   "source": [
    "print('Accuracy of Decision Tree on validation set: {:.2f}'.format(titanic_model.score(X_validate, y_validate)))\n",
    "print('Accuracy of Decision Tree on validation set: {:.2f}'.format(titanic_model2.score(X_validate, y_validate)))\n"
   ]
  },
  {
   "cell_type": "markdown",
   "metadata": {},
   "source": [
    "RANDOM FORESTS:"
   ]
  },
  {
   "cell_type": "markdown",
   "metadata": {},
   "source": [
    "1. Fit the Random Forest classifier to your training sample and transform (i.e. make predictions on the training sample) setting the random_state accordingly and setting min_samples_leaf = 1 and max_depth = 10."
   ]
  },
  {
   "cell_type": "code",
   "execution_count": 23,
   "metadata": {},
   "outputs": [
    {
     "name": "stdout",
     "output_type": "stream",
     "text": [
      "[0.17578604 0.05027556 0.03696643 0.14081947 0.04495464 0.51724881\n",
      " 0.00642008 0.02752897]\n"
     ]
    }
   ],
   "source": [
    "from sklearn.ensemble import RandomForestClassifier\n",
    "# create a random forest model \n",
    "titanic_rf = RandomForestClassifier(bootstrap=True, class_weight=None, min_samples_leaf=3, n_estimators=100, max_depth=3, random_state=1101)\n",
    "# fit the model\n",
    "titanic_rf.fit(X_train, y_train)\n",
    "# print feature importance\n",
    "print(titanic_rf.feature_importances_)"
   ]
  },
  {
   "cell_type": "code",
   "execution_count": 24,
   "metadata": {},
   "outputs": [],
   "source": [
    "# make a prediction\n",
    "y_pred_rf = titanic_rf.predict(X_test)"
   ]
  },
  {
   "cell_type": "code",
   "execution_count": 25,
   "metadata": {},
   "outputs": [
    {
     "name": "stdout",
     "output_type": "stream",
     "text": [
      "Accuracy of Random Forest on test set: 0.82\n"
     ]
    }
   ],
   "source": [
    "# Evaluate the model\n",
    "print('Accuracy of Random Forest on test set: {:.2f}'.format(titanic_rf.score(X_test, y_test)))"
   ]
  },
  {
   "cell_type": "code",
   "execution_count": 26,
   "metadata": {},
   "outputs": [
    {
     "data": {
      "text/html": [
       "<div>\n",
       "<style scoped>\n",
       "    .dataframe tbody tr th:only-of-type {\n",
       "        vertical-align: middle;\n",
       "    }\n",
       "\n",
       "    .dataframe tbody tr th {\n",
       "        vertical-align: top;\n",
       "    }\n",
       "\n",
       "    .dataframe thead th {\n",
       "        text-align: right;\n",
       "    }\n",
       "</style>\n",
       "<table border=\"1\" class=\"dataframe\">\n",
       "  <thead>\n",
       "    <tr style=\"text-align: right;\">\n",
       "      <th></th>\n",
       "      <th>did not survive</th>\n",
       "      <th>survived</th>\n",
       "    </tr>\n",
       "  </thead>\n",
       "  <tbody>\n",
       "    <tr>\n",
       "      <th>did not survive</th>\n",
       "      <td>101</td>\n",
       "      <td>9</td>\n",
       "    </tr>\n",
       "    <tr>\n",
       "      <th>survived</th>\n",
       "      <td>24</td>\n",
       "      <td>45</td>\n",
       "    </tr>\n",
       "  </tbody>\n",
       "</table>\n",
       "</div>"
      ],
      "text/plain": [
       "                 did not survive  survived\n",
       "did not survive              101         9\n",
       "survived                      24        45"
      ]
     },
     "execution_count": 26,
     "metadata": {},
     "output_type": "execute_result"
    }
   ],
   "source": [
    "# create a confusion matrix\n",
    "titanic_confusion_matrix_rf = confusion_matrix(y_test, y_pred_rf)\n",
    "labels = ['did not survive', 'survived']\n",
    "pd.DataFrame(titanic_confusion_matrix_rf, index=labels, columns=labels)\n"
   ]
  },
  {
   "cell_type": "code",
   "execution_count": 27,
   "metadata": {},
   "outputs": [
    {
     "name": "stdout",
     "output_type": "stream",
     "text": [
      "              precision    recall  f1-score   support\n",
      "\n",
      "           0       0.81      0.92      0.86       110\n",
      "           1       0.83      0.65      0.73        69\n",
      "\n",
      "    accuracy                           0.82       179\n",
      "   macro avg       0.82      0.79      0.80       179\n",
      "weighted avg       0.82      0.82      0.81       179\n",
      "\n"
     ]
    }
   ],
   "source": [
    "# create a classification report\n",
    "titanic_classification_report_rf = classification_report(y_test, y_pred_rf)\n",
    "print(titanic_classification_report_rf)"
   ]
  },
  {
   "cell_type": "code",
   "execution_count": 28,
   "metadata": {},
   "outputs": [
    {
     "name": "stdout",
     "output_type": "stream",
     "text": [
      "The accuracy of the model is: 0.8156424581005587\n"
     ]
    }
   ],
   "source": [
    "# create a model score\n",
    "titanic_score_rf = titanic_rf.score(X_test, y_test)\n",
    "print('The accuracy of the model is:', titanic_score_rf)"
   ]
  },
  {
   "cell_type": "code",
   "execution_count": 29,
   "metadata": {},
   "outputs": [
    {
     "name": "stdout",
     "output_type": "stream",
     "text": [
      "Accuracy of Random Forest on validation set: 0.79\n"
     ]
    }
   ],
   "source": [
    "# Validate the model\n",
    "print('Accuracy of Random Forest on validation set: {:.2f}'.format(titanic_rf.score(X_validate, y_validate)))"
   ]
  },
  {
   "cell_type": "markdown",
   "metadata": {},
   "source": [
    "3. Print and clearly label the following: Accuracy, true positive rate, false positive rate, true negative rate, false negative rate, precision, recall, f1-score, and support."
   ]
  },
  {
   "cell_type": "code",
   "execution_count": 30,
   "metadata": {},
   "outputs": [
    {
     "name": "stdout",
     "output_type": "stream",
     "text": [
      "The accuracy of the model is: 0.8156424581005587\n",
      "The true positive rate is: 0.7246376811594203\n",
      "The false positive rate is: 0.15454545454545454\n",
      "The true negative rate is: 0.8454545454545455\n",
      "The false negative rate is: 0.2753623188405797\n",
      "The precision is: 0.8333333333333334\n",
      "The recall is: 0.6521739130434783\n",
      "The f1 score is: 0.7317073170731708\n",
      "The support is: [110  69]\n"
     ]
    }
   ],
   "source": [
    "# accuracy score\n",
    "titanic_accuracy_score_rf = accuracy_score(y_test, y_pred_rf)\n",
    "print('The accuracy of the model is:', titanic_accuracy_score_rf)\n",
    "# true positive rate\n",
    "titanic_tp_rf = TP / (TP + FN)\n",
    "print('The true positive rate is:', titanic_tp_rf)\n",
    "# false positive rate\n",
    "titanic_fp_rf = FP / (FP + TN)\n",
    "print('The false positive rate is:', titanic_fp_rf)\n",
    "# true negative rate\n",
    "titanic_tn_rf = TN / (TN + FP)\n",
    "print('The true negative rate is:', titanic_tn_rf)\n",
    "# false negative rate\n",
    "titanic_fn_rf = FN / (FN + TP)\n",
    "print('The false negative rate is:', titanic_fn_rf)\n",
    "# precision\n",
    "titanic_precision_rf = precision_score(y_test, y_pred_rf)\n",
    "print('The precision is:', titanic_precision_rf)\n",
    "# recall\n",
    "titanic_recall_rf = recall_score(y_test, y_pred_rf)\n",
    "print('The recall is:', titanic_recall_rf)\n",
    "# f1 score\n",
    "titanic_f1_rf = f1_score(y_test, y_pred_rf)\n",
    "print('The f1 score is:', titanic_f1_rf)\n",
    "# support\n",
    "titanic_support_rf = titanic_confusion_matrix_rf.sum(axis=1)\n",
    "print('The support is:', titanic_support_rf)"
   ]
  },
  {
   "cell_type": "markdown",
   "metadata": {},
   "source": [
    "4. Run through steps increasing your min_samples_leaf and decreasing your max_depth."
   ]
  },
  {
   "cell_type": "code",
   "execution_count": 31,
   "metadata": {},
   "outputs": [
    {
     "name": "stdout",
     "output_type": "stream",
     "text": [
      "[2.16345846e-01 3.65442260e-02 4.13632225e-02 1.41280948e-01\n",
      " 5.91276523e-02 4.77114175e-01 4.23334457e-04 2.78005952e-02]\n"
     ]
    }
   ],
   "source": [
    "# create a random forest model with increased min_samples_leaf and decreased max_depth\n",
    "titanic_rf2 = RandomForestClassifier(bootstrap=True, class_weight=None, min_samples_leaf=5, n_estimators=100, max_depth=2, random_state=1101)\n",
    "# fit the model\n",
    "titanic_rf2.fit(X_train, y_train)\n",
    "# print feature importance\n",
    "print(titanic_rf2.feature_importances_)"
   ]
  },
  {
   "cell_type": "code",
   "execution_count": 32,
   "metadata": {},
   "outputs": [
    {
     "name": "stdout",
     "output_type": "stream",
     "text": [
      "The accuracy of the model is: 0.7932960893854749\n"
     ]
    }
   ],
   "source": [
    "# create a model score\n",
    "titanic_score_rf2 = titanic_rf2.score(X_test, y_test)\n",
    "print('The accuracy of the model is:', titanic_score_rf2)"
   ]
  },
  {
   "cell_type": "code",
   "execution_count": 33,
   "metadata": {},
   "outputs": [],
   "source": [
    "# make a prediction\n",
    "y_pred_rf2 = titanic_rf2.predict(X_test)"
   ]
  },
  {
   "cell_type": "code",
   "execution_count": 34,
   "metadata": {},
   "outputs": [
    {
     "name": "stdout",
     "output_type": "stream",
     "text": [
      "Accuracy of Random Forest on test set: 0.79\n"
     ]
    }
   ],
   "source": [
    "# Evaluate the model\n",
    "print('Accuracy of Random Forest on test set: {:.2f}'.format(titanic_rf2.score(X_test, y_test)))"
   ]
  },
  {
   "cell_type": "code",
   "execution_count": 35,
   "metadata": {},
   "outputs": [
    {
     "data": {
      "text/html": [
       "<div>\n",
       "<style scoped>\n",
       "    .dataframe tbody tr th:only-of-type {\n",
       "        vertical-align: middle;\n",
       "    }\n",
       "\n",
       "    .dataframe tbody tr th {\n",
       "        vertical-align: top;\n",
       "    }\n",
       "\n",
       "    .dataframe thead th {\n",
       "        text-align: right;\n",
       "    }\n",
       "</style>\n",
       "<table border=\"1\" class=\"dataframe\">\n",
       "  <thead>\n",
       "    <tr style=\"text-align: right;\">\n",
       "      <th></th>\n",
       "      <th>did not survive</th>\n",
       "      <th>survived</th>\n",
       "    </tr>\n",
       "  </thead>\n",
       "  <tbody>\n",
       "    <tr>\n",
       "      <th>did not survive</th>\n",
       "      <td>100</td>\n",
       "      <td>10</td>\n",
       "    </tr>\n",
       "    <tr>\n",
       "      <th>survived</th>\n",
       "      <td>27</td>\n",
       "      <td>42</td>\n",
       "    </tr>\n",
       "  </tbody>\n",
       "</table>\n",
       "</div>"
      ],
      "text/plain": [
       "                 did not survive  survived\n",
       "did not survive              100        10\n",
       "survived                      27        42"
      ]
     },
     "execution_count": 35,
     "metadata": {},
     "output_type": "execute_result"
    }
   ],
   "source": [
    "# create a confusion matrix\n",
    "titanic_confusion_matrix_rf2 = confusion_matrix(y_test, y_pred_rf2)\n",
    "labels = ['did not survive', 'survived']\n",
    "TP = titanic_confusion_matrix_rf2[1, 1]\n",
    "TN = titanic_confusion_matrix_rf2[0, 0]\n",
    "FP = titanic_confusion_matrix_rf2[0, 1]\n",
    "FN = titanic_confusion_matrix_rf2[1, 0]\n",
    "pd.DataFrame(titanic_confusion_matrix_rf2, index=labels, columns=labels)"
   ]
  },
  {
   "cell_type": "code",
   "execution_count": 36,
   "metadata": {},
   "outputs": [
    {
     "name": "stdout",
     "output_type": "stream",
     "text": [
      "              precision    recall  f1-score   support\n",
      "\n",
      "           0       0.79      0.91      0.84       110\n",
      "           1       0.81      0.61      0.69        69\n",
      "\n",
      "    accuracy                           0.79       179\n",
      "   macro avg       0.80      0.76      0.77       179\n",
      "weighted avg       0.80      0.79      0.79       179\n",
      "\n"
     ]
    }
   ],
   "source": [
    "# create a classification report\n",
    "titanic_classification_report_rf2 = classification_report(y_test, y_pred_rf2)\n",
    "print(titanic_classification_report_rf2)"
   ]
  },
  {
   "cell_type": "code",
   "execution_count": 37,
   "metadata": {},
   "outputs": [
    {
     "name": "stdout",
     "output_type": "stream",
     "text": [
      "The accuracy of the model is: 0.7932960893854749\n"
     ]
    }
   ],
   "source": [
    "# create a model score\n",
    "titanic_score_rf2 = titanic_rf2.score(X_test, y_test)\n",
    "print('The accuracy of the model is:', titanic_score_rf2)"
   ]
  },
  {
   "cell_type": "code",
   "execution_count": 38,
   "metadata": {},
   "outputs": [
    {
     "name": "stdout",
     "output_type": "stream",
     "text": [
      "Accuracy of Random Forest on validation set: 0.75\n"
     ]
    }
   ],
   "source": [
    "# Validate the model\n",
    "print('Accuracy of Random Forest on validation set: {:.2f}'.format(titanic_rf2.score(X_validate, y_validate)))"
   ]
  },
  {
   "cell_type": "code",
   "execution_count": 39,
   "metadata": {},
   "outputs": [
    {
     "name": "stdout",
     "output_type": "stream",
     "text": [
      "The accuracy of the model is: 0.7932960893854749\n",
      "The true positive rate is: 0.6086956521739131\n",
      "The false positive rate is: 0.09090909090909091\n",
      "The true negative rate is: 0.9090909090909091\n",
      "The false negative rate is: 0.391304347826087\n",
      "The precision is: 0.8076923076923077\n",
      "The recall is: 0.6086956521739131\n",
      "The f1 score is: 0.6942148760330579\n",
      "The support is: [110  69]\n"
     ]
    }
   ],
   "source": [
    "# accuracy score\n",
    "titanic_accuracy_score_rf2 = accuracy_score(y_test, y_pred_rf2)\n",
    "print('The accuracy of the model is:', titanic_accuracy_score_rf2)\n",
    "# true positive rate\n",
    "titanic_tp_rf2 = TP / (TP + FN)\n",
    "print('The true positive rate is:', titanic_tp_rf2)\n",
    "# false positive rate\n",
    "titanic_fp_rf2 = FP / (FP + TN)\n",
    "print('The false positive rate is:', titanic_fp_rf2)\n",
    "# true negative rate\n",
    "titanic_tn_rf2 = TN / (TN + FP)\n",
    "print('The true negative rate is:', titanic_tn_rf2)\n",
    "# false negative rate\n",
    "titanic_fn_rf2 = FN / (FN + TP)\n",
    "print('The false negative rate is:', titanic_fn_rf2)\n",
    "# precision\n",
    "titanic_precision_rf2 = precision_score(y_test, y_pred_rf2)\n",
    "print('The precision is:', titanic_precision_rf2)\n",
    "# recall\n",
    "titanic_recall_rf2 = recall_score(y_test, y_pred_rf2)\n",
    "print('The recall is:', titanic_recall_rf2)\n",
    "# f1 score\n",
    "titanic_f1_rf2 = f1_score(y_test, y_pred_rf2)\n",
    "print('The f1 score is:', titanic_f1_rf2)\n",
    "# support\n",
    "titanic_support_rf2 = titanic_confusion_matrix_rf2.sum(axis=1)\n",
    "print('The support is:', titanic_support_rf2)\n"
   ]
  },
  {
   "cell_type": "code",
   "execution_count": 40,
   "metadata": {},
   "outputs": [
    {
     "name": "stdout",
     "output_type": "stream",
     "text": [
      "The accuracy of the Random Forest model is: 0.8156424581005587\n",
      "The accuracy of the Random Forest model with increased min_samples_leaf and decreased max_depth is: 0.7932960893854749\n"
     ]
    }
   ],
   "source": [
    "# Compare the two models\n",
    "print('The accuracy of the Random Forest model is:', titanic_score_rf)\n",
    "print('The accuracy of the Random Forest model with increased min_samples_leaf and decreased max_depth is:', titanic_score_rf2)\n"
   ]
  },
  {
   "cell_type": "markdown",
   "metadata": {},
   "source": [
    "5. What are the differences in the evaluation metrics? Which performs better on your in-sample data? Why?\n",
    "- Answer: Model 2 preforms better due to a higher persicion score and recall score."
   ]
  },
  {
   "cell_type": "code",
   "execution_count": 41,
   "metadata": {},
   "outputs": [
    {
     "name": "stdout",
     "output_type": "stream",
     "text": [
      "The accuracy of the Random Forest model is: 0.82\n",
      "The accuracy of the Random Forest model2 is: 0.79\n",
      "------------------------------------------------------\n",
      "The precision of the Random Forest model is: 0.83\n",
      "The precision of the Random Forest model2 is: 0.81\n",
      "------------------------------------------------------\n",
      "The recall of the Random Forest model is: 0.65\n",
      "The recall of the Random Forest model2 is: 0.61\n"
     ]
    }
   ],
   "source": [
    "# the difference in the models evaluation metrics\n",
    "# model 1 accuracy vs model 2 accuracy\n",
    "print('The accuracy of the Random Forest model is:', round(titanic_score_rf, 2))\n",
    "print('The accuracy of the Random Forest model2 is:', round(titanic_score_rf2,2))\n",
    "print('------------------------------------------------------')\n",
    "# model 1 precision vs model 2 precision\n",
    "print('The precision of the Random Forest model is:', round(titanic_precision_rf, 2))\n",
    "print('The precision of the Random Forest model2 is:', round(titanic_precision_rf2,2))\n",
    "print('------------------------------------------------------')\n",
    "# model 1 recall vs model 2 recall\n",
    "print('The recall of the Random Forest model is:', round(titanic_recall_rf, 2))\n",
    "print('The recall of the Random Forest model2 is:', round(titanic_recall_rf2,2))\n"
   ]
  },
  {
   "cell_type": "code",
   "execution_count": null,
   "metadata": {},
   "outputs": [],
   "source": []
  }
 ],
 "metadata": {
  "interpreter": {
   "hash": "3067ead486e059ec00ffe7555bdb889e6e264a24dc711bf108106cc7baee8d5d"
  },
  "kernelspec": {
   "display_name": "Python 3.9.7 ('base')",
   "language": "python",
   "name": "python3"
  },
  "language_info": {
   "codemirror_mode": {
    "name": "ipython",
    "version": 3
   },
   "file_extension": ".py",
   "mimetype": "text/x-python",
   "name": "python",
   "nbconvert_exporter": "python",
   "pygments_lexer": "ipython3",
   "version": "3.9.7"
  },
  "orig_nbformat": 4
 },
 "nbformat": 4,
 "nbformat_minor": 2
}
