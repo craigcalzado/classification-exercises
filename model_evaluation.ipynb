{
 "cells": [
  {
   "cell_type": "code",
   "execution_count": 22,
   "metadata": {},
   "outputs": [],
   "source": [
    "import pandas as pd\n",
    "from sklearn.metrics import confusion_matrix\n"
   ]
  },
  {
   "cell_type": "code",
   "execution_count": 49,
   "metadata": {},
   "outputs": [
    {
     "name": "stdout",
     "output_type": "stream",
     "text": [
      "Accuracy: 80.0 %\n",
      "Precision: 86.79 %\n",
      "Recall: 77.97 %\n"
     ]
    }
   ],
   "source": [
    "# Given the following confusion matrix, evaluate (by hand) the model's performance.\n",
    "#|               | pred dog   | pred cat   |\n",
    "#|:------------  |-----------:|-----------:|\n",
    "#| actual dog    |         46 |         7  |\n",
    "#| actual cat    |         13 |         34 |\n",
    "\n",
    "# In the context of this problem, what is a false positive?\n",
    "# A false positive is a prediction that is incorrect.\n",
    "# In this case, a false positive is a prediction of a dog when the actual label is a cat.\n",
    "\n",
    "# In the context of this problem, what is a false negative?\n",
    "# A false negative is a prediction that is incorrect.\n",
    "# In this case, a false negative is a prediction of a cat when the actual label is a dog.\n",
    "\n",
    "# How would you describe this model?\n",
    "# Would be best utilized as recall.\n",
    "\n",
    "TP = 46\n",
    "FP = 7\n",
    "FN = 13\n",
    "TN = 34\n",
    "\n",
    "accuracy = (TP + TN) / (TP + FP + FN + TN)\n",
    "precision = TP / (TP + FP)\n",
    "recall = TP / (TP + FN)\n",
    "\n",
    "# print the results\n",
    "print(\"Accuracy:\", round(accuracy*100, 2),\"%\")\n",
    "print(\"Precision:\", round(precision*100, 2),\"%\")\n",
    "print(\"Recall:\", round(recall*100, 2),\"%\")\n"
   ]
  },
  {
   "cell_type": "markdown",
   "metadata": {},
   "source": [
    "You are working as a datascientist working for Codeup Cody Creator (C3 for short), a rubber-duck manufacturing plant.\n",
    "\n",
    "Unfortunately, some of the rubber ducks that are produced will have defects. Your team has built several models that try to predict those defects, and the data from their predictions can be found here.\n",
    "\n",
    "Use the predictions dataset and pandas to help answer the following questions:\n",
    "\n",
    "An internal team wants to investigate the cause of the manufacturing defects. \n",
    "\n",
    "They tell you that they want to identify as many of the ducks that have a defect as possible. \n",
    "\n",
    "Which evaluation metric would be appropriate here? \n",
    "\n",
    "Which model would be the best fit for this use case?\n",
    "\n",
    "\n",
    "Recently several stories in the local news have come out highlighting customers who received a rubber duck with a defect, and portraying C3 in a bad light. \n",
    "\n",
    "The PR team has decided to launch a program that gives customers with a defective duck a vacation to Hawaii. \n",
    "\n",
    "They need you to predict which ducks will have defects, but tell you the really don't want to accidentally give out a vacation package when the duck really doesn't have a defect. \n",
    "\n",
    "Which evaluation metric would be appropriate here? Which model would be the best fit for this use case?"
   ]
  },
  {
   "cell_type": "code",
   "execution_count": 50,
   "metadata": {},
   "outputs": [
    {
     "name": "stdout",
     "output_type": "stream",
     "text": [
      "      actual     model1  model2     model3\n",
      "0  No Defect  No Defect  Defect  No Defect\n",
      "1  No Defect  No Defect  Defect     Defect\n",
      "2  No Defect  No Defect  Defect  No Defect\n",
      "3  No Defect     Defect  Defect     Defect\n",
      "4  No Defect  No Defect  Defect  No Defect\n",
      "------------------------------------------\n",
      "<class 'pandas.core.frame.DataFrame'>\n",
      "RangeIndex: 200 entries, 0 to 199\n",
      "Data columns (total 4 columns):\n",
      " #   Column  Non-Null Count  Dtype \n",
      "---  ------  --------------  ----- \n",
      " 0   actual  200 non-null    object\n",
      " 1   model1  200 non-null    object\n",
      " 2   model2  200 non-null    object\n",
      " 3   model3  200 non-null    object\n",
      "dtypes: object(4)\n",
      "memory usage: 6.4+ KB\n",
      "------------------------------------------\n"
     ]
    },
    {
     "data": {
      "text/plain": [
       "No Defect    184\n",
       "Defect        16\n",
       "Name: actual, dtype: int64"
      ]
     },
     "execution_count": 50,
     "metadata": {},
     "output_type": "execute_result"
    }
   ],
   "source": [
    "# aquire and observe the data\n",
    "df = pd.read_csv('c3.csv')\n",
    "print(df.head())\n",
    "print('------------------------------------------')\n",
    "df.info()\n",
    "print('------------------------------------------')\n",
    "df.actual.value_counts()"
   ]
  },
  {
   "cell_type": "code",
   "execution_count": 37,
   "metadata": {},
   "outputs": [],
   "source": [
    "# An internal team wants to investigate the cause of the manufacturing defects. \n",
    "# They tell you that they want to identify as many of the ducks that have a defect as possible. "
   ]
  },
  {
   "cell_type": "code",
   "execution_count": 51,
   "metadata": {},
   "outputs": [
    {
     "data": {
      "text/html": [
       "<div>\n",
       "<style scoped>\n",
       "    .dataframe tbody tr th:only-of-type {\n",
       "        vertical-align: middle;\n",
       "    }\n",
       "\n",
       "    .dataframe tbody tr th {\n",
       "        vertical-align: top;\n",
       "    }\n",
       "\n",
       "    .dataframe thead th {\n",
       "        text-align: right;\n",
       "    }\n",
       "</style>\n",
       "<table border=\"1\" class=\"dataframe\">\n",
       "  <thead>\n",
       "    <tr style=\"text-align: right;\">\n",
       "      <th></th>\n",
       "      <th>actual</th>\n",
       "      <th>model1</th>\n",
       "      <th>model2</th>\n",
       "      <th>model3</th>\n",
       "      <th>baseline_prediction</th>\n",
       "    </tr>\n",
       "  </thead>\n",
       "  <tbody>\n",
       "    <tr>\n",
       "      <th>0</th>\n",
       "      <td>No Defect</td>\n",
       "      <td>No Defect</td>\n",
       "      <td>Defect</td>\n",
       "      <td>No Defect</td>\n",
       "      <td>Defect</td>\n",
       "    </tr>\n",
       "    <tr>\n",
       "      <th>1</th>\n",
       "      <td>No Defect</td>\n",
       "      <td>No Defect</td>\n",
       "      <td>Defect</td>\n",
       "      <td>Defect</td>\n",
       "      <td>Defect</td>\n",
       "    </tr>\n",
       "    <tr>\n",
       "      <th>2</th>\n",
       "      <td>No Defect</td>\n",
       "      <td>No Defect</td>\n",
       "      <td>Defect</td>\n",
       "      <td>No Defect</td>\n",
       "      <td>Defect</td>\n",
       "    </tr>\n",
       "    <tr>\n",
       "      <th>3</th>\n",
       "      <td>No Defect</td>\n",
       "      <td>Defect</td>\n",
       "      <td>Defect</td>\n",
       "      <td>Defect</td>\n",
       "      <td>Defect</td>\n",
       "    </tr>\n",
       "    <tr>\n",
       "      <th>4</th>\n",
       "      <td>No Defect</td>\n",
       "      <td>No Defect</td>\n",
       "      <td>Defect</td>\n",
       "      <td>No Defect</td>\n",
       "      <td>Defect</td>\n",
       "    </tr>\n",
       "    <tr>\n",
       "      <th>...</th>\n",
       "      <td>...</td>\n",
       "      <td>...</td>\n",
       "      <td>...</td>\n",
       "      <td>...</td>\n",
       "      <td>...</td>\n",
       "    </tr>\n",
       "    <tr>\n",
       "      <th>195</th>\n",
       "      <td>No Defect</td>\n",
       "      <td>No Defect</td>\n",
       "      <td>Defect</td>\n",
       "      <td>Defect</td>\n",
       "      <td>Defect</td>\n",
       "    </tr>\n",
       "    <tr>\n",
       "      <th>196</th>\n",
       "      <td>Defect</td>\n",
       "      <td>Defect</td>\n",
       "      <td>No Defect</td>\n",
       "      <td>No Defect</td>\n",
       "      <td>Defect</td>\n",
       "    </tr>\n",
       "    <tr>\n",
       "      <th>197</th>\n",
       "      <td>No Defect</td>\n",
       "      <td>No Defect</td>\n",
       "      <td>No Defect</td>\n",
       "      <td>No Defect</td>\n",
       "      <td>Defect</td>\n",
       "    </tr>\n",
       "    <tr>\n",
       "      <th>198</th>\n",
       "      <td>No Defect</td>\n",
       "      <td>No Defect</td>\n",
       "      <td>Defect</td>\n",
       "      <td>Defect</td>\n",
       "      <td>Defect</td>\n",
       "    </tr>\n",
       "    <tr>\n",
       "      <th>199</th>\n",
       "      <td>No Defect</td>\n",
       "      <td>No Defect</td>\n",
       "      <td>No Defect</td>\n",
       "      <td>Defect</td>\n",
       "      <td>Defect</td>\n",
       "    </tr>\n",
       "  </tbody>\n",
       "</table>\n",
       "<p>200 rows × 5 columns</p>\n",
       "</div>"
      ],
      "text/plain": [
       "        actual     model1     model2     model3 baseline_prediction\n",
       "0    No Defect  No Defect     Defect  No Defect              Defect\n",
       "1    No Defect  No Defect     Defect     Defect              Defect\n",
       "2    No Defect  No Defect     Defect  No Defect              Defect\n",
       "3    No Defect     Defect     Defect     Defect              Defect\n",
       "4    No Defect  No Defect     Defect  No Defect              Defect\n",
       "..         ...        ...        ...        ...                 ...\n",
       "195  No Defect  No Defect     Defect     Defect              Defect\n",
       "196     Defect     Defect  No Defect  No Defect              Defect\n",
       "197  No Defect  No Defect  No Defect  No Defect              Defect\n",
       "198  No Defect  No Defect     Defect     Defect              Defect\n",
       "199  No Defect  No Defect  No Defect     Defect              Defect\n",
       "\n",
       "[200 rows x 5 columns]"
      ]
     },
     "execution_count": 51,
     "metadata": {},
     "output_type": "execute_result"
    }
   ],
   "source": [
    "# create a baseline_prediction of 'Defect'\n",
    "df['baseline_prediction'] = 'Defect'\n",
    "df\n"
   ]
  },
  {
   "cell_type": "code",
   "execution_count": 52,
   "metadata": {},
   "outputs": [
    {
     "name": "stdout",
     "output_type": "stream",
     "text": [
      "Model 1 Accuracy: 95.00%\n",
      "Model 2 Accuracy: 56.00%\n",
      "Model 3 Accuracy: 55.50%\n",
      "Baseline Accuracy: 8.00%\n"
     ]
    }
   ],
   "source": [
    "# Find the accuracy of all the models.\n",
    "model1_acc = (df.actual == df.model1).mean()\n",
    "model2_acc = (df.actual == df.model2).mean()\n",
    "model3_acc = (df.actual == df.model3).mean()\n",
    "baseline_acc = (df.actual == df.baseline_prediction).mean()\n",
    "\n",
    "# print the results\n",
    "print(f'Model 1 Accuracy: {model1_acc:.2%}')\n",
    "print(f'Model 2 Accuracy: {model2_acc:.2%}')\n",
    "print(f'Model 3 Accuracy: {model3_acc:.2%}')\n",
    "print(f'Baseline Accuracy: {baseline_acc:.2%}')"
   ]
  },
  {
   "cell_type": "code",
   "execution_count": 53,
   "metadata": {},
   "outputs": [
    {
     "data": {
      "text/html": [
       "<div>\n",
       "<style scoped>\n",
       "    .dataframe tbody tr th:only-of-type {\n",
       "        vertical-align: middle;\n",
       "    }\n",
       "\n",
       "    .dataframe tbody tr th {\n",
       "        vertical-align: top;\n",
       "    }\n",
       "\n",
       "    .dataframe thead th {\n",
       "        text-align: right;\n",
       "    }\n",
       "</style>\n",
       "<table border=\"1\" class=\"dataframe\">\n",
       "  <thead>\n",
       "    <tr style=\"text-align: right;\">\n",
       "      <th></th>\n",
       "      <th>actual</th>\n",
       "      <th>model1</th>\n",
       "      <th>model2</th>\n",
       "      <th>model3</th>\n",
       "      <th>baseline_prediction</th>\n",
       "    </tr>\n",
       "  </thead>\n",
       "  <tbody>\n",
       "    <tr>\n",
       "      <th>13</th>\n",
       "      <td>Defect</td>\n",
       "      <td>No Defect</td>\n",
       "      <td>Defect</td>\n",
       "      <td>Defect</td>\n",
       "      <td>Defect</td>\n",
       "    </tr>\n",
       "    <tr>\n",
       "      <th>30</th>\n",
       "      <td>Defect</td>\n",
       "      <td>Defect</td>\n",
       "      <td>No Defect</td>\n",
       "      <td>Defect</td>\n",
       "      <td>Defect</td>\n",
       "    </tr>\n",
       "    <tr>\n",
       "      <th>65</th>\n",
       "      <td>Defect</td>\n",
       "      <td>Defect</td>\n",
       "      <td>Defect</td>\n",
       "      <td>Defect</td>\n",
       "      <td>Defect</td>\n",
       "    </tr>\n",
       "    <tr>\n",
       "      <th>70</th>\n",
       "      <td>Defect</td>\n",
       "      <td>Defect</td>\n",
       "      <td>Defect</td>\n",
       "      <td>Defect</td>\n",
       "      <td>Defect</td>\n",
       "    </tr>\n",
       "    <tr>\n",
       "      <th>74</th>\n",
       "      <td>Defect</td>\n",
       "      <td>No Defect</td>\n",
       "      <td>No Defect</td>\n",
       "      <td>Defect</td>\n",
       "      <td>Defect</td>\n",
       "    </tr>\n",
       "  </tbody>\n",
       "</table>\n",
       "</div>"
      ],
      "text/plain": [
       "    actual     model1     model2  model3 baseline_prediction\n",
       "13  Defect  No Defect     Defect  Defect              Defect\n",
       "30  Defect     Defect  No Defect  Defect              Defect\n",
       "65  Defect     Defect     Defect  Defect              Defect\n",
       "70  Defect     Defect     Defect  Defect              Defect\n",
       "74  Defect  No Defect  No Defect  Defect              Defect"
      ]
     },
     "execution_count": 53,
     "metadata": {},
     "output_type": "execute_result"
    }
   ],
   "source": [
    "# Create a subset where we assign 'Defect' as the 'positive' because that is what is being asked from us.\n",
    "df_defect = df[df.actual == 'Defect']\n",
    "df_defect.head()"
   ]
  },
  {
   "cell_type": "code",
   "execution_count": 48,
   "metadata": {},
   "outputs": [
    {
     "name": "stdout",
     "output_type": "stream",
     "text": [
      "Model 1 Recall: 98.91%\n",
      "Model 2 Recall: 55.98%\n",
      "Model 3 Recall: 53.26%\n",
      "Baseline Recall: 0.00%\n"
     ]
    }
   ],
   "source": [
    "# Find the recall of all the models.\n",
    "model1_recall = (df_defect.model1 == df_defect.actual).mean()\n",
    "model2_recall = (df_defect.model2 == df_defect.actual).mean()\n",
    "model3_recall = (df_defect.model3 == df_defect.actual).mean()\n",
    "baseline_recall = (df_defect.baseline_prediction == df_defect.actual).mean()\n",
    "\n",
    "#positive \n",
    "\n",
    "# print the results\n",
    "print(f'Model 1 Recall: {model1_recall:.2%}')\n",
    "print(f'Model 2 Recall: {model2_recall:.2%}')\n",
    "print(f'Model 3 Recall: {model3_recall:.2%}')\n",
    "print(f'Baseline Recall: {baseline_recall:.2%}')"
   ]
  },
  {
   "cell_type": "code",
   "execution_count": 61,
   "metadata": {},
   "outputs": [
    {
     "data": {
      "text/plain": [
       "0.8"
      ]
     },
     "execution_count": 61,
     "metadata": {},
     "output_type": "execute_result"
    }
   ],
   "source": [
    "# create a precision subset data\n",
    "model1_subset = df[df.model1 == 'Defect']\n",
    "model2_subset = df[df.model2 == 'Defect']\n",
    "model3_subset = df[df.model3 == 'Defect']\n",
    "# Create a precision of all the models.\n",
    "model1_precision = (model1_subset.model1 == model1_subset.actual).mean()\n",
    "model2_precision = (model2_subset.model2 == model2_subset.actual).mean()\n",
    "model3_precision = (model3_subset.model3 == model3_subset.actual).mean()\n"
   ]
  },
  {
   "cell_type": "code",
   "execution_count": 65,
   "metadata": {},
   "outputs": [
    {
     "name": "stdout",
     "output_type": "stream",
     "text": [
      "Model 1 Precision: 80.00%\n",
      "Model 2 Precision: 10.00%\n",
      "Model 3 Precision: 13.13%\n",
      "Baseline Precision: 8.00%\n"
     ]
    }
   ],
   "source": [
    "model1_subset = df[df.baseline_prediction == 'Defect']\n",
    "model2_subset = df[df.baseline_prediction == 'Defect']\n",
    "model3_subset = df[df.baseline_prediction == 'Defect']\n",
    "\n",
    "baseline_percision1 = (model1_subset.baseline_prediction == model1_subset.actual).mean()\n",
    "baseline_percision2 = (model2_subset.baseline_prediction == model2_subset.actual).mean()\n",
    "baseline_percision3 = (model3_subset.baseline_prediction == model3_subset.actual).mean()\n",
    "\n",
    "# print the results\n",
    "print(f'Model 1 Precision: {model1_precision:.2%}')\n",
    "print(f'Model 2 Precision: {model2_precision:.2%}')\n",
    "print(f'Model 3 Precision: {model3_precision:.2%}')\n",
    "print(f'Baseline Precision: {baseline_percision1:.2%}')\n",
    "\n"
   ]
  },
  {
   "cell_type": "code",
   "execution_count": null,
   "metadata": {},
   "outputs": [],
   "source": []
  }
 ],
 "metadata": {
  "interpreter": {
   "hash": "3067ead486e059ec00ffe7555bdb889e6e264a24dc711bf108106cc7baee8d5d"
  },
  "kernelspec": {
   "display_name": "Python 3.9.7 ('base')",
   "language": "python",
   "name": "python3"
  },
  "language_info": {
   "codemirror_mode": {
    "name": "ipython",
    "version": 3
   },
   "file_extension": ".py",
   "mimetype": "text/x-python",
   "name": "python",
   "nbconvert_exporter": "python",
   "pygments_lexer": "ipython3",
   "version": "3.9.7"
  },
  "orig_nbformat": 4
 },
 "nbformat": 4,
 "nbformat_minor": 2
}
